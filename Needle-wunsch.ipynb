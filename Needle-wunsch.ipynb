{
 "cells": [
  {
   "cell_type": "markdown",
   "id": "15b568f6",
   "metadata": {},
   "source": [
    "# Mahmoud Mourad\n",
    "## 18P6555"
   ]
  },
  {
   "cell_type": "code",
   "execution_count": 22,
   "id": "e5e144cc",
   "metadata": {},
   "outputs": [],
   "source": [
    "#importing libraries\n",
    "import numpy as np\n",
    "import pandas as pd"
   ]
  },
  {
   "cell_type": "code",
   "execution_count": 2,
   "id": "34bb5bc8",
   "metadata": {},
   "outputs": [],
   "source": [
    "# Function returning match score if there is a match\n",
    "# and returns mismatch score if there is a mismatch\n",
    "def scoreCheck(x,y):\n",
    "    if x == y:\n",
    "        return match\n",
    "    else :\n",
    "        return mismatch\n",
    "\n",
    "#pandas dataframe to visualize the matrix\n",
    "def visualize(matrix):\n",
    "    return pd.DataFrame(matrix,index=row_labels,columns=column_labels)"
   ]
  },
  {
   "cell_type": "code",
   "execution_count": 3,
   "id": "6fef2346",
   "metadata": {},
   "outputs": [
    {
     "name": "stdout",
     "output_type": "stream",
     "text": [
      "Sequence 1 ACGCTG\n",
      "Sequence 2 CATGT\n"
     ]
    }
   ],
   "source": [
    "# Input sequences from user and make sure it is in uppercase format\n",
    "seq1=input(\"Sequence 1 \").upper()\n",
    "seq2=input(\"Sequence 2 \").upper()\n",
    "seq1=\" \"+seq1\n",
    "seq2=\" \"+seq2"
   ]
  },
  {
   "cell_type": "code",
   "execution_count": 4,
   "id": "d9d5030a",
   "metadata": {},
   "outputs": [
    {
     "name": "stdout",
     "output_type": "stream",
     "text": [
      "match 2\n",
      "mismatch  -1\n",
      "gap: -1\n"
     ]
    }
   ],
   "source": [
    "#the user inputs the match, mismatch, and gap scores\n",
    "match = int(input(\"match \"))\n",
    "mismatch = int(input(\"mismatch  \"))\n",
    "gap = int(input(\"gap: \"))"
   ]
  },
  {
   "cell_type": "code",
   "execution_count": 6,
   "id": "1280c112",
   "metadata": {},
   "outputs": [],
   "source": [
    "# creating matrix\n",
    "matrix = np.matrix([[0 for j in range(len(seq1))]for i in range(len(seq2))])"
   ]
  },
  {
   "cell_type": "code",
   "execution_count": 7,
   "id": "45041d96",
   "metadata": {},
   "outputs": [
    {
     "name": "stdout",
     "output_type": "stream",
     "text": [
      "      A  C  G  C  T  G\n",
      "   0  0  0  0  0  0  0\n",
      "C  0  0  0  0  0  0  0\n",
      "A  0  0  0  0  0  0  0\n",
      "T  0  0  0  0  0  0  0\n",
      "G  0  0  0  0  0  0  0\n",
      "T  0  0  0  0  0  0  0\n"
     ]
    }
   ],
   "source": [
    "# converting the sequences into lists (arrays)  \n",
    "row_labels = [label for label in seq2]\n",
    "column_labels = [label for label in seq1]\n",
    "\n",
    "# visualize\n",
    "print(visualize(matrix))"
   ]
  },
  {
   "cell_type": "code",
   "execution_count": 8,
   "id": "4ee74ca1",
   "metadata": {},
   "outputs": [
    {
     "name": "stdout",
     "output_type": "stream",
     "text": [
      "      A  C  G  C  T  G\n",
      "   0 -1 -2 -3 -4 -5 -6\n",
      "C -1  0  0  0  0  0  0\n",
      "A -2  0  0  0  0  0  0\n",
      "T -3  0  0  0  0  0  0\n",
      "G -4  0  0  0  0  0  0\n",
      "T -5  0  0  0  0  0  0\n"
     ]
    }
   ],
   "source": [
    "#initialization of the first row and column\n",
    "for i in range(1,len(seq1)):\n",
    "    matrix[0,i]=matrix[0,i-1]+gap\n",
    "\n",
    "for i in range(1,len(seq2)):\n",
    "    matrix[i,0]=matrix[i-1,0]+gap\n",
    "\n",
    "print(visualize(matrix))"
   ]
  },
  {
   "cell_type": "code",
   "execution_count": 9,
   "id": "564bc66b",
   "metadata": {},
   "outputs": [],
   "source": [
    "# Fill matrix by comparing the values with the scores\n",
    "Diagonal=0\n",
    "Left=0\n",
    "Up=0\n",
    "for i in range(1,len(seq2)):\n",
    "    for j in range(1,len(seq1)):\n",
    "        Left=matrix[i-1,j]+gap\n",
    "        Up=matrix[i,j-1]+gap\n",
    "        Diagonal=matrix[i-1,j-1]+scoreCheck(seq2[i],seq1[j])\n",
    "\n",
    "        matrix[i,j]=max(Left,Up,Diagonal)"
   ]
  },
  {
   "cell_type": "code",
   "execution_count": 10,
   "id": "4a1a4d59",
   "metadata": {},
   "outputs": [
    {
     "name": "stdout",
     "output_type": "stream",
     "text": [
      "      A  C  G  C  T  G\n",
      "   0 -1 -2 -3 -4 -5 -6\n",
      "C -1 -1  1  0 -1 -2 -3\n",
      "A -2  1  0  0 -1 -2 -3\n",
      "T -3  0  0 -1 -1  1  0\n",
      "G -4 -1 -1  2  1  0  3\n",
      "T -5 -2 -2  1  1  3  2\n"
     ]
    }
   ],
   "source": [
    "#visualize\n",
    "print(visualize(matrix))"
   ]
  },
  {
   "cell_type": "code",
   "execution_count": 11,
   "id": "863ef71f",
   "metadata": {},
   "outputs": [
    {
     "name": "stdout",
     "output_type": "stream",
     "text": [
      "      A  C  G  C  T  G\n",
      "   0  <  <  <  <  <  <\n",
      "C  ^  0  0  0  0  0  0\n",
      "A  ^  0  0  0  0  0  0\n",
      "T  ^  0  0  0  0  0  0\n",
      "G  ^  0  0  0  0  0  0\n",
      "T  ^  0  0  0  0  0  0\n"
     ]
    }
   ],
   "source": [
    "#initializing traceback matrix and filling it with 0\n",
    "#and the first rows with left direction\n",
    "#and the first column with up direction\n",
    "matrixt=[]\n",
    "for i in range(len(seq2)):\n",
    "  submatrixt=[]\n",
    "  for j in range(len(seq1)):\n",
    "    submatrixt.append(0)\n",
    "  matrixt.append(submatrixt)\n",
    "for j in range(1,len(seq1)):\n",
    "  matrixt[0][j]='<'\n",
    "for j in range(1,len(seq2)):\n",
    "  matrixt[j][0]='^'\n",
    "matrixt[0][0]=0\n",
    "print(visualize(matrixt))"
   ]
  },
  {
   "cell_type": "code",
   "execution_count": 12,
   "id": "41c49009",
   "metadata": {},
   "outputs": [
    {
     "name": "stdout",
     "output_type": "stream",
     "text": [
      "      A  C  G  C  T  G\n",
      "   0  <  <  <  <  <  <\n",
      "C  ^  D  D  <  <  <  <\n",
      "A  ^  D  <  D  <  <  <\n",
      "T  ^  ^  D  <  D  D  <\n",
      "G  ^  ^  ^  D  <  <  D\n",
      "T  ^  ^  ^  ^  D  D  <\n"
     ]
    }
   ],
   "source": [
    "#filling the trace back matrix with the directions by comparing\n",
    "for i in range(1,len(seq1)-1):\n",
    "    for j in range(1,len(seq2)+1):\n",
    "        if matrix[i,j]==matrix[i,j-1]+gap:\n",
    "            matrixt[i][j]=\"<\"\n",
    "        elif matrix[i,j]==matrix[i-1,j]+gap:\n",
    "            matrixt[i][j]='^'\n",
    "        elif matrix[i,j]==matrix[i-1,j-1]+scoreCheck(seq1[i-1],seq2[j-1]):\n",
    "            matrixt[i][j]='D'\n",
    "\n",
    "print(visualize(matrixt))"
   ]
  },
  {
   "cell_type": "code",
   "execution_count": 13,
   "id": "726026e6",
   "metadata": {},
   "outputs": [],
   "source": [
    "#alignment reulted from traceback\n",
    "#start from the bottom left corner\n",
    "#setting a new variables to print the alignments and score with 0\n",
    "i=len(seq2)-1\n",
    "j=len(seq1)-1\n",
    "align1=\"\"\n",
    "align2=\"\"\n",
    "score=0\n",
    "#loop until it reaches the index matrix[0][0]\n",
    "while(i !=0 or j !=0):\n",
    "    # if left is true\n",
    "    # add character from first sequence and gap to second sequence\n",
    "    # compute the score then decrement columns\n",
    "    if matrix[i,j]==matrix[i,j-1]+gap:\n",
    "        align1+=seq1[j]\n",
    "        align2+=\"-\"\n",
    "        score+=gap\n",
    "        j=j-1\n",
    "    # if up is true\n",
    "    # add character from second sequence and gap to first sequence\n",
    "    # compute the score then decrement rows\n",
    "    elif matrix[i,j]==matrix[i-1,j]+gap:\n",
    "        align1+=\"-\"\n",
    "        align2+=seq2[i]\n",
    "        score+=gap\n",
    "        i=i-1\n",
    "    # if the diagonal is true\n",
    "    # character from first sequence and character from second sequence\n",
    "    # compute the score with match or mismatch score then decrement both rows and columns\n",
    "    elif matrix[i,j]==matrix[i-1,j-1]+scoreCheck(seq2[i],seq1[j]):\n",
    "        align1+=seq1[j]\n",
    "        align2+=seq2[i]\n",
    "        score+=scoreCheck(seq2[i],seq1[j])\n",
    "        i=i-1\n",
    "        j=j-1"
   ]
  },
  {
   "cell_type": "code",
   "execution_count": 21,
   "id": "03c689c9",
   "metadata": {},
   "outputs": [
    {
     "name": "stdout",
     "output_type": "stream",
     "text": [
      "first alignment  -ACGCTG\n",
      "second alignment CATG-T-\n",
      "final score : 2\n"
     ]
    }
   ],
   "source": [
    "# print reversed strings\n",
    "align1=align1[::-1]\n",
    "align2=align2[::-1]\n",
    "\n",
    "print(\"first alignment \",align1)\n",
    "print(\"second alignment\",align2)\n",
    "print(\"final score :\",score)"
   ]
  }
 ],
 "metadata": {
  "kernelspec": {
   "display_name": "Python 3",
   "language": "python",
   "name": "python3"
  },
  "language_info": {
   "codemirror_mode": {
    "name": "ipython",
    "version": 3
   },
   "file_extension": ".py",
   "mimetype": "text/x-python",
   "name": "python",
   "nbconvert_exporter": "python",
   "pygments_lexer": "ipython3",
   "version": "3.8.8"
  }
 },
 "nbformat": 4,
 "nbformat_minor": 5
}
