{
 "cells": [
  {
   "cell_type": "markdown",
   "id": "19d1939c",
   "metadata": {},
   "source": [
    "# Mahmoud Mourad\n",
    "## 18P6555"
   ]
  },
  {
   "cell_type": "code",
   "execution_count": 96,
   "id": "01fa9c1f",
   "metadata": {},
   "outputs": [],
   "source": [
    "#importing libraries\n",
    "import numpy as np\n",
    "import pandas as pd"
   ]
  },
  {
   "cell_type": "code",
   "execution_count": 97,
   "id": "7bda2818",
   "metadata": {},
   "outputs": [],
   "source": [
    "# Function returning match score if there is a match\n",
    "# and returns mismatch score if there is a mismatch\n",
    "def scoreCheck(x,y):\n",
    "    if x == y:\n",
    "        return match\n",
    "    else :\n",
    "        return mismatch\n",
    "\n",
    "#pandas dataframe to visualize the matrix\n",
    "def visualize(matrix):\n",
    "    return pd.DataFrame(matrix,index=row_labels,columns=column_labels)"
   ]
  },
  {
   "cell_type": "code",
   "execution_count": 98,
   "id": "013625da",
   "metadata": {},
   "outputs": [
    {
     "name": "stdout",
     "output_type": "stream",
     "text": [
      "Sequence 1 TGCTCGTA\n",
      "Sequence 2 TTCATA\n"
     ]
    }
   ],
   "source": [
    "# Input sequences from user and make sure it is in uppercase format\n",
    "seq1=input(\"Sequence 1 \").upper()\n",
    "seq2=input(\"Sequence 2 \").upper()\n",
    "seq1=\" \"+seq1\n",
    "seq2=\" \"+seq2"
   ]
  },
  {
   "cell_type": "code",
   "execution_count": 99,
   "id": "8be874b2",
   "metadata": {},
   "outputs": [
    {
     "name": "stdout",
     "output_type": "stream",
     "text": [
      "match 5\n",
      "mismatch  -2\n",
      "gap: -6\n"
     ]
    }
   ],
   "source": [
    "#the user inputs the match, mismatch, and gap scores\n",
    "match = int(input(\"match \"))\n",
    "mismatch = int(input(\"mismatch  \"))\n",
    "gap = int(input(\"gap: \"))"
   ]
  },
  {
   "cell_type": "code",
   "execution_count": 100,
   "id": "0120dfa8",
   "metadata": {},
   "outputs": [],
   "source": [
    "# creating matrix\n",
    "matrix = np.matrix([[0 for j in range(len(seq1))]for i in range(len(seq2))])"
   ]
  },
  {
   "cell_type": "code",
   "execution_count": 101,
   "id": "62b55c8e",
   "metadata": {},
   "outputs": [
    {
     "name": "stdout",
     "output_type": "stream",
     "text": [
      "      T  G  C  T  C  G  T  A\n",
      "   0  0  0  0  0  0  0  0  0\n",
      "T  0  0  0  0  0  0  0  0  0\n",
      "T  0  0  0  0  0  0  0  0  0\n",
      "C  0  0  0  0  0  0  0  0  0\n",
      "A  0  0  0  0  0  0  0  0  0\n",
      "T  0  0  0  0  0  0  0  0  0\n",
      "A  0  0  0  0  0  0  0  0  0\n"
     ]
    }
   ],
   "source": [
    "# converting the sequences into lists (arrays)  \n",
    "row_labels = [label for label in seq2]\n",
    "column_labels = [label for label in seq1]\n",
    "\n",
    "# visualize\n",
    "print(visualize(matrix))"
   ]
  },
  {
   "cell_type": "code",
   "execution_count": 102,
   "id": "73ce9caf",
   "metadata": {},
   "outputs": [
    {
     "name": "stdout",
     "output_type": "stream",
     "text": [
      "      T  G  C  T  C  G  T  A\n",
      "   0  0  0  0  0  0  0  0  0\n",
      "T  0  0  0  0  0  0  0  0  0\n",
      "T  0  0  0  0  0  0  0  0  0\n",
      "C  0  0  0  0  0  0  0  0  0\n",
      "A  0  0  0  0  0  0  0  0  0\n",
      "T  0  0  0  0  0  0  0  0  0\n",
      "A  0  0  0  0  0  0  0  0  0\n"
     ]
    }
   ],
   "source": [
    "#initialization of the first row and column\n",
    "for i in range(1,len(seq1)):\n",
    "    matrix[0,i]=0\n",
    "\n",
    "for i in range(1,len(seq2)):\n",
    "    matrix[i,0]=0\n",
    "\n",
    "print(visualize(matrix))"
   ]
  },
  {
   "cell_type": "code",
   "execution_count": 103,
   "id": "399e7960",
   "metadata": {},
   "outputs": [],
   "source": [
    "# Fill matrix by comparing the values with the scores\n",
    "Diagonal=0\n",
    "Left=0\n",
    "Up=0\n",
    "for i in range(1,len(seq2)):\n",
    "    for j in range(1,len(seq1)):\n",
    "        Left=matrix[i-1,j]+gap\n",
    "        Up=matrix[i,j-1]+gap\n",
    "        Diagonal=matrix[i-1,j-1]+scoreCheck(seq2[i],seq1[j])\n",
    "\n",
    "        matrix[i,j]=max(Left,Up,Diagonal,0)"
   ]
  },
  {
   "cell_type": "code",
   "execution_count": 104,
   "id": "2b742046",
   "metadata": {},
   "outputs": [
    {
     "name": "stdout",
     "output_type": "stream",
     "text": [
      "      T  G  C  T   C  G   T   A\n",
      "   0  0  0  0  0   0  0   0   0\n",
      "T  0  5  0  0  5   0  0   5   0\n",
      "T  0  5  3  0  5   3  0   5   3\n",
      "C  0  0  3  8  2  10  4   0   3\n",
      "A  0  0  0  2  6   4  8   2   5\n",
      "T  0  5  0  0  7   4  2  13   7\n",
      "A  0  0  3  0  1   5  2   7  18\n"
     ]
    },
    {
     "data": {
      "text/plain": [
       "18"
      ]
     },
     "execution_count": 104,
     "metadata": {},
     "output_type": "execute_result"
    }
   ],
   "source": [
    "#visualize\n",
    "print(visualize(matrix))\n",
    "np.max(matrix)"
   ]
  },
  {
   "cell_type": "code",
   "execution_count": 107,
   "id": "1ef349af",
   "metadata": {},
   "outputs": [
    {
     "name": "stdout",
     "output_type": "stream",
     "text": [
      "[6] [8]\n",
      "6\n",
      "8\n"
     ]
    }
   ],
   "source": [
    "#alignment reulted from traceback\n",
    "#start from the bottom left corner\n",
    "#setting a new variables to print the alignments and score with 0\n",
    "align1=\"\"\n",
    "align2=\"\"\n",
    "score=0\n",
    "result = np.where(matrix == np.amax(matrix))\n",
    "listOfCordinates = list((result[0], result[1]))\n",
    "print(listOfCordinates[0],listOfCordinates[1])\n",
    "i=int(listOfCordinates[0]) #eauals to len(seq2)-1\n",
    "j=int(listOfCordinates[1]) #equals to len(seq1)-1\n",
    "print(i)\n",
    "print(j)\n",
    "ti=i\n",
    "tj=j\n",
    "while(matrix[ti,tj]!=0):\n",
    "    if matrix[ti,tj]==matrix[ti,tj-1]+gap:\n",
    "        align1+=seq1[tj]\n",
    "        align2+=\"-\"\n",
    "        score+=gap\n",
    "        tj=tj-1\n",
    "    elif matrix[ti,tj]==matrix[ti-1,tj]+gap:\n",
    "        align1+=\"-\"\n",
    "        align2+=seq2[ti]\n",
    "        score+=gap\n",
    "        ti=ti-1\n",
    "    elif matrix[ti,tj]==matrix[ti-1,tj-1]+scoreCheck(seq2[ti],seq1[tj]):\n",
    "        align1+=seq1[tj]\n",
    "        align2+=seq2[ti]\n",
    "        score+=scoreCheck(seq2[ti],seq1[tj])\n",
    "        ti=ti-1\n",
    "        tj=tj-1\n",
    "#loop until it reaches the index matrix[0][0]"
   ]
  },
  {
   "cell_type": "code",
   "execution_count": 108,
   "id": "5a76970a",
   "metadata": {},
   "outputs": [
    {
     "name": "stdout",
     "output_type": "stream",
     "text": [
      "first alignment  TCGTA\n",
      "second alignment TCATA\n",
      "final score : 18\n"
     ]
    }
   ],
   "source": [
    "# print reversed strings\n",
    "align1=align1[::-1]\n",
    "align2=align2[::-1]\n",
    "\n",
    "print(\"first alignment \",align1)\n",
    "print(\"second alignment\",align2)\n",
    "print(\"final score :\",score)"
   ]
  },
  {
   "cell_type": "code",
   "execution_count": null,
   "id": "7e5c8094",
   "metadata": {},
   "outputs": [],
   "source": []
  }
 ],
 "metadata": {
  "kernelspec": {
   "display_name": "Python 3",
   "language": "python",
   "name": "python3"
  },
  "language_info": {
   "codemirror_mode": {
    "name": "ipython",
    "version": 3
   },
   "file_extension": ".py",
   "mimetype": "text/x-python",
   "name": "python",
   "nbconvert_exporter": "python",
   "pygments_lexer": "ipython3",
   "version": "3.8.8"
  }
 },
 "nbformat": 4,
 "nbformat_minor": 5
}
